{
  "nbformat": 4,
  "nbformat_minor": 0,
  "metadata": {
    "colab": {
      "provenance": []
    },
    "kernelspec": {
      "name": "python3",
      "display_name": "Python 3"
    },
    "language_info": {
      "name": "python"
    }
  },
  "cells": [
    {
      "cell_type": "markdown",
      "source": [
        "# Assessing Fire and Rescue Service Strain to Anticipate Emerging Service Demands"
      ],
      "metadata": {
        "id": "8RgGWaBLHH5u"
      }
    },
    {
      "cell_type": "code",
      "execution_count": null,
      "metadata": {
        "id": "K_uxWIdzG3X5"
      },
      "outputs": [],
      "source": []
    }
  ]
}