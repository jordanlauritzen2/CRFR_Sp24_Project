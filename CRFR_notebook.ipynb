{
  "nbformat": 4,
  "nbformat_minor": 0,
  "metadata": {
    "colab": {
      "provenance": [],
      "toc_visible": true,
      "include_colab_link": true
    },
    "kernelspec": {
      "name": "python3",
      "display_name": "Python 3"
    },
    "language_info": {
      "name": "python"
    }
  },
  "cells": [
    {
      "cell_type": "markdown",
      "metadata": {
        "id": "view-in-github",
        "colab_type": "text"
      },
      "source": [
        "<a href=\"https://colab.research.google.com/github/jordanlauritzen2/CRFR_Sp24_Project/blob/main/CRFR_notebook.ipynb\" target=\"_parent\"><img src=\"https://colab.research.google.com/assets/colab-badge.svg\" alt=\"Open In Colab\"/></a>"
      ]
    },
    {
      "cell_type": "markdown",
      "source": [
        "# Assessing Fire and Rescue Service Strain to Anticipate Emerging Service Demands"
      ],
      "metadata": {
        "id": "8RgGWaBLHH5u"
      }
    },
    {
      "cell_type": "markdown",
      "source": [
        "## Files Required:"
      ],
      "metadata": {
        "id": "FoWWf3KLOFyl"
      }
    },
    {
      "cell_type": "markdown",
      "source": [
        "The following files (all located in the 'Data' folder) are required for the notebook to run:\n",
        "\n",
        "*   2012_2021_NewData.xlsx\n",
        "*   Acutal_ValueBY_Year.csv\n",
        "*   HomeType.csv\n",
        "*   FIREDISTRICT.shp **\n",
        "*   FIRESTATIONS.shp **\n",
        "*   FIRESTATIONZONES.shp **\n",
        "*   Parcel.shp **\n",
        "*   Blockgroups.shp **\n",
        "*   Population files *\n",
        "      *   Contains 9 csv files for 2013-2021\n",
        "*   Homes65+ files *\n",
        "      *   Contains 9 csv files for 2013-2021\n",
        "*   Blockgroups files *\n",
        "      *   Contains 10 .shp files\n",
        "\n",
        "\n",
        "<br>\n",
        "<br>\n",
        "<br>\n",
        "\n",
        "*Entire folder is required\n",
        "\n",
        "\n",
        "\n",
        "** For all shapefiles `.shp` the corresponding `.cpg`, `.dbf`, `.prj`, `.shx`, `.xml` are required"
      ],
      "metadata": {
        "id": "pCmcK1I4OQCf"
      }
    },
    {
      "cell_type": "markdown",
      "source": [
        "## Roles of Team Members"
      ],
      "metadata": {
        "id": "7Yv8w0_vNpwt"
      }
    },
    {
      "cell_type": "markdown",
      "source": [
        "Glen:\n",
        "> Words\n",
        "\n",
        "Sophie\n",
        "> Words\n",
        "\n",
        "Jordan:\n",
        "> Words"
      ],
      "metadata": {
        "id": "jwkJZihSNv7t"
      }
    },
    {
      "cell_type": "markdown",
      "source": [
        "# Abstract"
      ],
      "metadata": {
        "id": "gKlN49dAN9-G"
      }
    },
    {
      "cell_type": "markdown",
      "source": [
        "Words"
      ],
      "metadata": {
        "id": "pdyvKHT1OAtG"
      }
    },
    {
      "cell_type": "markdown",
      "source": [
        "# Introduction"
      ],
      "metadata": {
        "id": "aZyt2pqmOBsJ"
      }
    },
    {
      "cell_type": "markdown",
      "source": [
        "Words"
      ],
      "metadata": {
        "id": "vzoHAzRdODs_"
      }
    },
    {
      "cell_type": "markdown",
      "source": [
        "# Methods"
      ],
      "metadata": {
        "id": "F3eb5HlZOEgZ"
      }
    },
    {
      "cell_type": "markdown",
      "source": [
        "Words"
      ],
      "metadata": {
        "id": "4M-zGjScOGiN"
      }
    },
    {
      "cell_type": "markdown",
      "source": [
        "# Results and Discussion"
      ],
      "metadata": {
        "id": "C1PBfY99O89h"
      }
    },
    {
      "cell_type": "markdown",
      "source": [
        "this is copied from previous project"
      ],
      "metadata": {
        "id": "eBPDK34_RXTq"
      }
    },
    {
      "cell_type": "code",
      "execution_count": 1,
      "metadata": {
        "id": "K_uxWIdzG3X5",
        "outputId": "240c2a13-b5fb-404b-a554-c3d29b1d71a3",
        "colab": {
          "base_uri": "https://localhost:8080/"
        }
      },
      "outputs": [
        {
          "output_type": "stream",
          "name": "stdout",
          "text": [
            "\u001b[2K     \u001b[90m━━━━━━━━━━━━━━━━━━━━━━━━━━━━━━━━━━━━━━━━\u001b[0m \u001b[32m20.6/20.6 MB\u001b[0m \u001b[31m50.5 MB/s\u001b[0m eta \u001b[36m0:00:00\u001b[0m\n",
            "\u001b[2K     \u001b[90m━━━━━━━━━━━━━━━━━━━━━━━━━━━━━━━━━━━━━━━━\u001b[0m \u001b[32m31.5/31.5 MB\u001b[0m \u001b[31m14.1 MB/s\u001b[0m eta \u001b[36m0:00:00\u001b[0m\n",
            "\u001b[?25h"
          ]
        }
      ],
      "source": [
        "!pip install geopandas -q\n",
        "!pip install mapclassify -q\n",
        "!pip install contextily -q\n",
        "!pip install cpi -q"
      ]
    },
    {
      "cell_type": "code",
      "source": [
        "from google.colab import drive\n",
        "import os\n",
        "import numpy as np\n",
        "import pandas as pd\n",
        "import geopandas as gpd\n",
        "import mapclassify\n",
        "import contextily as cx\n",
        "%matplotlib inline\n",
        "import matplotlib.pyplot as plt\n",
        "import glob\n",
        "import seaborn as sns\n",
        "from sklearn.linear_model import LinearRegression\n",
        "from cpi import inflate\n",
        "from sklearn.metrics import mean_squared_error\n",
        "from sklearn.metrics import r2_score\n",
        "import statsmodels.api as sm\n",
        "from calendar import month_abbr\n",
        "from functools import reduce\n",
        "import scipy as sp\n",
        "from statsmodels.formula.api import ols"
      ],
      "metadata": {
        "id": "ZEe8SXkoPVE0"
      },
      "execution_count": 2,
      "outputs": []
    },
    {
      "cell_type": "code",
      "source": [
        "drive.mount('/content/drive')"
      ],
      "metadata": {
        "id": "eMFFXUHVPXpS",
        "outputId": "e648417e-0d4b-475b-e6fc-0aa0b61ab5fa",
        "colab": {
          "base_uri": "https://localhost:8080/"
        }
      },
      "execution_count": 3,
      "outputs": [
        {
          "output_type": "stream",
          "name": "stdout",
          "text": [
            "Mounted at /content/drive\n"
          ]
        }
      ]
    },
    {
      "cell_type": "code",
      "source": [
        "cwd = os.getcwd()\n",
        "pathCRFR = cwd + '/drive/My Drive/Colab Notebooks/Math Clinic'\n",
        "pathFournier = 'Math Clinic/2024sp/CRFR/Data/'\n",
        "if os.path.exists(pathCRFR + pathFournier):\n",
        "    pathCRFR += pathFournier\n",
        "os.listdir(pathCRFR) # lists files in the drive to check"
      ],
      "metadata": {
        "id": "Ro4jfOEyPad-",
        "outputId": "12d6856d-a80b-4d83-ca9a-2ac50196946e",
        "colab": {
          "base_uri": "https://localhost:8080/"
        }
      },
      "execution_count": 4,
      "outputs": [
        {
          "output_type": "execute_result",
          "data": {
            "text/plain": [
              "['Acutal_ValueBY_Year.csv',\n",
              " 'HomeType.csv',\n",
              " 'Incident_Data_CLEAN.xlsx',\n",
              " '2012_2021_NewData.xlsx',\n",
              " 'Blockgroups',\n",
              " 'Population',\n",
              " 'ShapeFiles',\n",
              " 'Homes65+']"
            ]
          },
          "metadata": {},
          "execution_count": 4
        }
      ]
    },
    {
      "cell_type": "code",
      "source": [
        "filepath = pathCRFR"
      ],
      "metadata": {
        "id": "Mtf8R4mPPhPi"
      },
      "execution_count": 5,
      "outputs": []
    },
    {
      "cell_type": "markdown",
      "source": [
        "## Importing Data"
      ],
      "metadata": {
        "id": "WqBrcwgsRmMV"
      }
    },
    {
      "cell_type": "markdown",
      "source": [
        "### Incident Data"
      ],
      "metadata": {
        "id": "Bk7GTVWcR2gR"
      }
    },
    {
      "cell_type": "code",
      "source": [
        "incident_data = pd.read_excel(filepath + '2012_2021_NewData.xlsx').drop(columns = 'Jurisdiction Name')"
      ],
      "metadata": {
        "id": "A4re6PupPYa8"
      },
      "execution_count": null,
      "outputs": []
    },
    {
      "cell_type": "code",
      "source": [
        "# Columns with spaces rewritten with _ for calling them\n",
        "incident_data = incident_data.rename(columns = {'Incident Year':'incident_year',\n",
        "                                'Incident Number':'incident_number',\n",
        "                                'Date of Call':'date_of_call',\n",
        "                                'Day of Week':'day_of_week',\n",
        "                                'Time of Call':'time_of_call',\n",
        "                                'Hour of Day':'hour_of_day',\n",
        "                                'Incident Type':'incident_type',\n",
        "                                'Incident Type Category':'incident_type_category',\n",
        "                                'Location from CAD':'location_from_cad',\n",
        "                                'Response Zone':'response_zone',\n",
        "                                'Station District':'station_district'})"
      ],
      "metadata": {
        "id": "wYOyG0tfRtcy"
      },
      "execution_count": null,
      "outputs": []
    },
    {
      "cell_type": "markdown",
      "source": [
        "### Actual Value Data (home values)"
      ],
      "metadata": {
        "id": "JWQiHhAMR5dR"
      }
    },
    {
      "cell_type": "code",
      "source": [
        "actual_value_df = pd.read_csv(filepath + 'Acutal_ValueBY_Year.csv', sep = ',')"
      ],
      "metadata": {
        "id": "KZDvFePIRt9t"
      },
      "execution_count": null,
      "outputs": []
    },
    {
      "cell_type": "code",
      "source": [
        "actual_value_df = actual_value_df.replace('<Null>', np.nan) # Changes <Null> to NaN that pandas recognizes\n",
        "actual_value_df.drop(actual_value_df.columns[[13,14]],axis=1,inplace=True) # Drops empty columns 13, 14\n",
        "actual_value_df = actual_value_df.dropna() # Drops empty rows"
      ],
      "metadata": {
        "id": "x-WkqUIoSJ5I"
      },
      "execution_count": null,
      "outputs": []
    },
    {
      "cell_type": "markdown",
      "source": [
        "### Home Type\n",
        "\n",
        "SFD = Single Family Dwelling \\\\\n",
        "SFA = Service Family Accomodation \\\\\n",
        "MF = Multifamily dwelling \\\\"
      ],
      "metadata": {
        "id": "Pyc-RZf7SNtV"
      }
    },
    {
      "cell_type": "code",
      "source": [
        "home_type_df = pd.read_csv(filepath + 'HomeType.csv', sep = ',').dropna()"
      ],
      "metadata": {
        "id": "AbYhoovHSLyG"
      },
      "execution_count": null,
      "outputs": []
    },
    {
      "cell_type": "markdown",
      "source": [
        "### Population Tables (census data from past project)"
      ],
      "metadata": {
        "id": "mgRlX1VlS6MK"
      }
    },
    {
      "cell_type": "code",
      "source": [],
      "metadata": {
        "id": "s3Jy286uS7qb"
      },
      "execution_count": null,
      "outputs": []
    },
    {
      "cell_type": "markdown",
      "source": [
        "### Age Demographics (census data from past project)"
      ],
      "metadata": {
        "id": "qK1XIdzuSj9K"
      }
    },
    {
      "cell_type": "code",
      "source": [],
      "metadata": {
        "id": "MIDpPLP6SeHe"
      },
      "execution_count": null,
      "outputs": []
    },
    {
      "cell_type": "markdown",
      "source": [
        "### Shape Files"
      ],
      "metadata": {
        "id": "nJI0P0Q-TFDF"
      }
    },
    {
      "cell_type": "code",
      "source": [],
      "metadata": {
        "id": "FuNsXi3uTWob"
      },
      "execution_count": null,
      "outputs": []
    },
    {
      "cell_type": "markdown",
      "source": [
        "# Conclusion"
      ],
      "metadata": {
        "id": "3QzqA3tNOZdz"
      }
    },
    {
      "cell_type": "markdown",
      "source": [
        "Words"
      ],
      "metadata": {
        "id": "lv0pFRELOa5A"
      }
    }
  ]
}