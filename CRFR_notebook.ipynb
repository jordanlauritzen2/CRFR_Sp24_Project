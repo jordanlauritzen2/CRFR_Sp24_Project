{
  "nbformat": 4,
  "nbformat_minor": 0,
  "metadata": {
    "colab": {
      "provenance": [],
      "toc_visible": true
    },
    "kernelspec": {
      "name": "python3",
      "display_name": "Python 3"
    },
    "language_info": {
      "name": "python"
    }
  },
  "cells": [
    {
      "cell_type": "markdown",
      "source": [
        "# Assessing Fire and Rescue Service Strain to Anticipate Emerging Service Demands"
      ],
      "metadata": {
        "id": "8RgGWaBLHH5u"
      }
    },
    {
      "cell_type": "markdown",
      "source": [
        "## Files Required:"
      ],
      "metadata": {
        "id": "FoWWf3KLOFyl"
      }
    },
    {
      "cell_type": "markdown",
      "source": [
        "The following files (all located in the 'Data' folder) are required for the notebook to run:\n",
        "\n",
        "*   2012_2021_NewData.xlsx\n",
        "*   Acutal_ValueBY_Year.csv\n",
        "*   HomeType.csv\n",
        "*   FIREDISTRICT.shp **\n",
        "*   FIRESTATIONS.shp **\n",
        "*   FIRESTATIONZONES.shp **\n",
        "*   Parcel.shp **\n",
        "*   Blockgroups.shp **\n",
        "*   Population files *\n",
        "      *   Contains 9 csv files for 2013-2021\n",
        "*   Homes65+ files *\n",
        "      *   Contains 9 csv files for 2013-2021\n",
        "*   Blockgroups files *\n",
        "      *   Contains 10 .shp files\n",
        "\n",
        "\n",
        "<br>\n",
        "<br>\n",
        "<br>\n",
        "\n",
        "*Entire folder is required\n",
        "\n",
        "\n",
        "\n",
        "** For all shapefiles `.shp` the corresponding `.cpg`, `.dbf`, `.prj`, `.shx`, `.xml` are required"
      ],
      "metadata": {
        "id": "pCmcK1I4OQCf"
      }
    },
    {
      "cell_type": "markdown",
      "source": [
        "# Ok time to play with code:"
      ],
      "metadata": {
        "id": "C1PBfY99O89h"
      }
    },
    {
      "cell_type": "code",
      "execution_count": null,
      "metadata": {
        "id": "K_uxWIdzG3X5"
      },
      "outputs": [],
      "source": [
        "!pip install geopandas -q\n",
        "!pip install mapclassify -q\n",
        "!pip install contextily -q\n",
        "!pip install cpi -q"
      ]
    },
    {
      "cell_type": "code",
      "source": [
        "from google.colab import drive\n",
        "import os\n",
        "import numpy as np\n",
        "import pandas as pd\n",
        "import geopandas as gpd\n",
        "import mapclassify\n",
        "import contextily as cx\n",
        "%matplotlib inline\n",
        "import matplotlib.pyplot as plt\n",
        "import glob\n",
        "import seaborn as sns\n",
        "from sklearn.linear_model import LinearRegression\n",
        "from cpi import inflate\n",
        "from sklearn.metrics import mean_squared_error\n",
        "from sklearn.metrics import r2_score\n",
        "import statsmodels.api as sm\n",
        "from calendar import month_abbr\n",
        "from functools import reduce\n",
        "import scipy as sp\n",
        "from statsmodels.formula.api import ols"
      ],
      "metadata": {
        "id": "ZEe8SXkoPVE0"
      },
      "execution_count": null,
      "outputs": []
    },
    {
      "cell_type": "code",
      "source": [
        "drive.mount('/content/drive')"
      ],
      "metadata": {
        "id": "eMFFXUHVPXpS"
      },
      "execution_count": null,
      "outputs": []
    },
    {
      "cell_type": "code",
      "source": [
        "cwd = os.getcwd()\n",
        "pathCRFR = cwd + '/drive/My Drive/Colab Notebooks/'\n",
        "pathFournier = 'Math Clinic/2023sp/CRFR/Data/'\n",
        "if os.path.exists(pathCRFR + pathFournier):\n",
        "    pathCRFR += pathFournier\n",
        "os.listdir(pathCRFR) # lists files in the drive to check"
      ],
      "metadata": {
        "id": "Ro4jfOEyPad-"
      },
      "execution_count": null,
      "outputs": []
    },
    {
      "cell_type": "code",
      "source": [
        "filepath = pathCRFR"
      ],
      "metadata": {
        "id": "Mtf8R4mPPhPi"
      },
      "execution_count": null,
      "outputs": []
    }
  ]
}