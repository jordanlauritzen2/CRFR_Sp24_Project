{
  "nbformat": 4,
  "nbformat_minor": 0,
  "metadata": {
    "colab": {
      "provenance": [],
      "toc_visible": true,
      "include_colab_link": true
    },
    "kernelspec": {
      "name": "python3",
      "display_name": "Python 3"
    },
    "language_info": {
      "name": "python"
    }
  },
  "cells": [
    {
      "cell_type": "markdown",
      "metadata": {
        "id": "view-in-github",
        "colab_type": "text"
      },
      "source": [
        "<a href=\"https://colab.research.google.com/github/jordanlauritzen2/CRFR_Sp24_Project/blob/main/CRFR_notebook.ipynb\" target=\"_parent\"><img src=\"https://colab.research.google.com/assets/colab-badge.svg\" alt=\"Open In Colab\"/></a>"
      ]
    },
    {
      "cell_type": "markdown",
      "source": [
        "# Assessing Fire and Rescue Service Strain to Anticipate Emerging Service Demands"
      ],
      "metadata": {
        "id": "8RgGWaBLHH5u"
      }
    },
    {
      "cell_type": "markdown",
      "source": [
        "## Files Required:"
      ],
      "metadata": {
        "id": "FoWWf3KLOFyl"
      }
    },
    {
      "cell_type": "markdown",
      "source": [
        "The following files (all located in the 'Data' folder) are required for the notebook to run:\n",
        "\n",
        "*   2012_2021_NewData.xlsx\n",
        "*   Acutal_ValueBY_Year.csv\n",
        "*   HomeType.csv\n",
        "*   FIREDISTRICT.shp **\n",
        "*   FIRESTATIONS.shp **\n",
        "*   FIRESTATIONZONES.shp **\n",
        "*   Parcel.shp **\n",
        "*   Blockgroups.shp **\n",
        "*   Population files *\n",
        "      *   Contains 9 csv files for 2013-2021\n",
        "*   Homes65+ files *\n",
        "      *   Contains 9 csv files for 2013-2021\n",
        "*   Blockgroups files *\n",
        "      *   Contains 10 .shp files\n",
        "\n",
        "\n",
        "<br>\n",
        "<br>\n",
        "<br>\n",
        "\n",
        "*Entire folder is required\n",
        "\n",
        "\n",
        "\n",
        "** For all shapefiles `.shp` the corresponding `.cpg`, `.dbf`, `.prj`, `.shx`, `.xml` are required"
      ],
      "metadata": {
        "id": "pCmcK1I4OQCf"
      }
    },
    {
      "cell_type": "markdown",
      "source": [
        "# Ok time to play with code:"
      ],
      "metadata": {
        "id": "C1PBfY99O89h"
      }
    },
    {
      "cell_type": "code",
      "execution_count": 1,
      "metadata": {
        "id": "K_uxWIdzG3X5",
        "outputId": "0da77f47-bcbd-4b43-b10d-7c472a943e8a",
        "colab": {
          "base_uri": "https://localhost:8080/"
        }
      },
      "outputs": [
        {
          "output_type": "stream",
          "name": "stdout",
          "text": [
            "\u001b[2K     \u001b[90m━━━━━━━━━━━━━━━━━━━━━━━━━━━━━━━━━━━━━━━━\u001b[0m \u001b[32m20.6/20.6 MB\u001b[0m \u001b[31m41.0 MB/s\u001b[0m eta \u001b[36m0:00:00\u001b[0m\n",
            "\u001b[2K     \u001b[90m━━━━━━━━━━━━━━━━━━━━━━━━━━━━━━━━━━━━━━━━\u001b[0m \u001b[32m31.5/31.5 MB\u001b[0m \u001b[31m12.8 MB/s\u001b[0m eta \u001b[36m0:00:00\u001b[0m\n",
            "\u001b[?25h"
          ]
        }
      ],
      "source": [
        "!pip install geopandas -q\n",
        "!pip install mapclassify -q\n",
        "!pip install contextily -q\n",
        "!pip install cpi -q"
      ]
    },
    {
      "cell_type": "code",
      "source": [
        "from google.colab import drive\n",
        "import os\n",
        "import numpy as np\n",
        "import pandas as pd\n",
        "import geopandas as gpd\n",
        "import mapclassify\n",
        "import contextily as cx\n",
        "%matplotlib inline\n",
        "import matplotlib.pyplot as plt\n",
        "import glob\n",
        "import seaborn as sns\n",
        "from sklearn.linear_model import LinearRegression\n",
        "from cpi import inflate\n",
        "from sklearn.metrics import mean_squared_error\n",
        "from sklearn.metrics import r2_score\n",
        "import statsmodels.api as sm\n",
        "from calendar import month_abbr\n",
        "from functools import reduce\n",
        "import scipy as sp\n",
        "from statsmodels.formula.api import ols"
      ],
      "metadata": {
        "id": "ZEe8SXkoPVE0"
      },
      "execution_count": 2,
      "outputs": []
    },
    {
      "cell_type": "code",
      "source": [
        "drive.mount('/content/drive')"
      ],
      "metadata": {
        "id": "eMFFXUHVPXpS",
        "outputId": "d8c35e5b-b866-451c-c630-f15eea083831",
        "colab": {
          "base_uri": "https://localhost:8080/"
        }
      },
      "execution_count": 3,
      "outputs": [
        {
          "output_type": "stream",
          "name": "stdout",
          "text": [
            "Mounted at /content/drive\n"
          ]
        }
      ]
    },
    {
      "cell_type": "code",
      "source": [
        "cwd = os.getcwd()\n",
        "pathCRFR = cwd + '/drive/My Drive/Colab Notebooks/Math Clinic'\n",
        "pathFournier = 'Math Clinic/2024sp/CRFR/Data/'\n",
        "if os.path.exists(pathCRFR + pathFournier):\n",
        "    pathCRFR += pathFournier\n",
        "os.listdir(pathCRFR) # lists files in the drive to check"
      ],
      "metadata": {
        "id": "Ro4jfOEyPad-",
        "outputId": "74d2e874-fe8a-417a-8804-98ff28eab9cf",
        "colab": {
          "base_uri": "https://localhost:8080/"
        }
      },
      "execution_count": 6,
      "outputs": [
        {
          "output_type": "execute_result",
          "data": {
            "text/plain": [
              "[]"
            ]
          },
          "metadata": {},
          "execution_count": 6
        }
      ]
    },
    {
      "cell_type": "code",
      "source": [
        "filepath = pathCRFR"
      ],
      "metadata": {
        "id": "Mtf8R4mPPhPi"
      },
      "execution_count": null,
      "outputs": []
    }
  ]
}